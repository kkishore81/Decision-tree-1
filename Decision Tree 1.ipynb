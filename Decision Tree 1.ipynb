{
 "cells": [
  {
   "cell_type": "code",
   "execution_count": 2,
   "id": "8415817a-a2f9-4e5c-ad20-b8f52d1d52b9",
   "metadata": {},
   "outputs": [],
   "source": [
    "#Q1. Describe the decision tree classifier algorithm and how it works to make predictions."
   ]
  },
  {
   "cell_type": "code",
   "execution_count": 3,
   "id": "518ef646-bef8-43d9-b138-a7654ab0f526",
   "metadata": {},
   "outputs": [],
   "source": [
    "#Decision tree classifier is a supervised machine learning algorithm used for classification tasks.\n",
    "#It works by recursively splitting the dataset into subsets based on the most significant attribute, creating a tree-like structure.\n",
    "#At each node, it selects the attribute that provides the best split according to a specific criterion, like Gini impurity or information gain.\n",
    "#The process continues until a stopping criterion (e.g., maximum depth) is met or no further improvement can be made.\n",
    "#To make predictions, a new data point traverses the tree from the root to a leaf node, which represents the class label."
   ]
  },
  {
   "cell_type": "code",
   "execution_count": 4,
   "id": "1f42d640-a107-4b8e-98e8-9a7f1dbc3494",
   "metadata": {},
   "outputs": [],
   "source": [
    "#Q2. Provide a step-by-step explanation of the mathematical intuition behind decision tree classification."
   ]
  },
  {
   "cell_type": "code",
   "execution_count": 5,
   "id": "38d5e395-989d-435b-a4d6-c36c094ddc42",
   "metadata": {},
   "outputs": [],
   "source": [
    "#Decision tree splits data into subsets to maximize information gain or minimize impurity.\n",
    "#At each node, it calculates the impurity or entropy of the subsets and selects the split that minimizes impurity.\n",
    "#Impurity measures like Gini impurity or entropy quantify the disorder or randomness of class labels within a subset."
   ]
  },
  {
   "cell_type": "code",
   "execution_count": 6,
   "id": "400ca0ab-e629-40a0-b1b1-5b38b08a2d57",
   "metadata": {},
   "outputs": [],
   "source": [
    "#Q3. Explain how a decision tree classifier can be used to solve a binary classification problem."
   ]
  },
  {
   "cell_type": "code",
   "execution_count": 7,
   "id": "2b362d4f-c41b-4cba-9684-65062f73cd8e",
   "metadata": {},
   "outputs": [],
   "source": [
    "#Decision tree classifiers are suitable for binary classification by assigning one class label to the left branch and the other to the right branch at each node.\n",
    "#Predictions are made by traversing the tree and assigning the final leaf's class label."
   ]
  },
  {
   "cell_type": "code",
   "execution_count": 8,
   "id": "5a43b06d-e2cc-4194-b8f7-5ba3bc77fd8c",
   "metadata": {},
   "outputs": [],
   "source": [
    "#Q4. Discuss the geometric intuition behind decision tree classification and how it can be used to make\n",
    "#predictions."
   ]
  },
  {
   "cell_type": "code",
   "execution_count": 9,
   "id": "80fc299c-71f7-4e6a-b2e0-2d14735b070d",
   "metadata": {},
   "outputs": [],
   "source": [
    "#Decision tree splits feature space into regions, creating a geometric partition.\n",
    "#Each leaf corresponds to a region with a predicted class label.\n",
    "#Predictions are based on which region a data point falls into."
   ]
  },
  {
   "cell_type": "code",
   "execution_count": 10,
   "id": "7cb3983b-1caa-492f-a95b-9645f9e440d5",
   "metadata": {},
   "outputs": [],
   "source": [
    "#Q5. Define the confusion matrix and describe how it can be used to evaluate the performance of a\n",
    "#classification model."
   ]
  },
  {
   "cell_type": "code",
   "execution_count": 11,
   "id": "10b4b541-a17a-4d2d-aa69-48208ae0ede7",
   "metadata": {},
   "outputs": [],
   "source": [
    "#A confusion matrix is a table used to evaluate the performance of a classification model.\n",
    "#It contains four values: true positives (TP), true negatives (TN), false positives (FP), and false negatives (FN)."
   ]
  },
  {
   "cell_type": "code",
   "execution_count": null,
   "id": "b57f031d-f5c1-46c3-9aac-17e74b35e2f3",
   "metadata": {},
   "outputs": [],
   "source": [
    "#Q6. Provide an example of a confusion matrix and explain how precision, recall, and F1 score can be\n",
    "#calculated from it."
   ]
  },
  {
   "cell_type": "code",
   "execution_count": 12,
   "id": "5ae5b790-44cd-44f8-80a8-a3010a26c75a",
   "metadata": {},
   "outputs": [],
   "source": [
    "#Precision = TP / (TP + FP)\n",
    "#Recall = TP / (TP + FN)\n",
    "#F1 Score = 2 * (Precision * Recall) / (Precision + Recall)"
   ]
  },
  {
   "cell_type": "code",
   "execution_count": 13,
   "id": "07458f68-2c1c-419f-907c-4d727eca8614",
   "metadata": {},
   "outputs": [],
   "source": [
    "#Q7. Discuss the importance of choosing an appropriate evaluation metric for a classification problem and\n",
    "#explain how this can be done."
   ]
  },
  {
   "cell_type": "code",
   "execution_count": 14,
   "id": "b57bfb97-51d2-4fba-90fa-3ffc7cf968a1",
   "metadata": {},
   "outputs": [],
   "source": [
    "#The choice of evaluation metric depends on the problem and its specific requirements.\n",
    "#Precision is important when false positives are costly.\n",
    "#Recall is important when false negatives are costly."
   ]
  },
  {
   "cell_type": "code",
   "execution_count": 15,
   "id": "f21944e5-ccc9-4a26-a615-dab38cbdd442",
   "metadata": {},
   "outputs": [],
   "source": [
    "#Q8. Provide an example of a classification problem where precision is the most important metric, and\n",
    "#explain why."
   ]
  },
  {
   "cell_type": "code",
   "execution_count": 16,
   "id": "d3a0f7a9-83b8-4479-8a29-d2a9352ed612",
   "metadata": {},
   "outputs": [],
   "source": [
    "#Medical diagnosis for a rare disease where false positives can lead to unnecessary invasive procedures. Precision minimizes such cases."
   ]
  },
  {
   "cell_type": "code",
   "execution_count": 17,
   "id": "a37fb921-7134-45e2-8d4d-9928c5fe7144",
   "metadata": {},
   "outputs": [],
   "source": [
    "#Q9. Provide an example of a classification problem where recall is the most important metric, and explain\n",
    "#why."
   ]
  },
  {
   "cell_type": "code",
   "execution_count": null,
   "id": "80b6c587-1bac-4b94-adb9-0679e2f291cb",
   "metadata": {},
   "outputs": [],
   "source": [
    "#Spam email detection where missing a spam email (false negative) is more problematic than incorrectly marking a \n",
    "#legitimate email as spam (false positive). Recall reduces false negatives."
   ]
  }
 ],
 "metadata": {
  "kernelspec": {
   "display_name": "Python 3 (ipykernel)",
   "language": "python",
   "name": "python3"
  },
  "language_info": {
   "codemirror_mode": {
    "name": "ipython",
    "version": 3
   },
   "file_extension": ".py",
   "mimetype": "text/x-python",
   "name": "python",
   "nbconvert_exporter": "python",
   "pygments_lexer": "ipython3",
   "version": "3.10.8"
  }
 },
 "nbformat": 4,
 "nbformat_minor": 5
}
